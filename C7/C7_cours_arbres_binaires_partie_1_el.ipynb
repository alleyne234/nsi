{
 "cells": [
  {
   "cell_type": "markdown",
   "metadata": {},
   "source": [
    "\n",
    "<center> <h1> C7 Les arbres binaires partie 1   </h1> </center>\n",
    "<h3>Structure de données et algorithmique</h3>\n",
    "\n",
    "Cours"
   ]
  },
  {
   "cell_type": "markdown",
   "metadata": {},
   "source": [
    "||||\n",
    "|---|---|---|\n",
    "|Arbres : structures hiérarchiques. Arbres binaires : noeud racines, feuilles. Sous arbres gauches, siys arbres droits|Identifier des structures nécessitant une structure de données arborescentes. Evaluer quelques mesures des arbres binaires (taille, encadrement de la hauteur, etc.).|On fait le lien avec la rubrique \"algorithmique\"|\n",
    "|Algorithmes sur les arbres binaires et sur les arbres binaires de recherche.|Calculer la taille et la hauteur d'un arbre. Parcourir un arbre de différentes façons (ordre infixe, préfixe ou suffixe ; ordre en largeur d'abord)Rechercher une clé dans un arbre binaire de recherche, insérer une clé|Une structure de données récursive adapatée est utilisée. L'exemple des arbres permet d'illustrer la programmation par classe. La recherche dans un arbre de recherche équilibré est de coût logarithmique|\n"
   ]
  },
  {
   "cell_type": "markdown",
   "metadata": {},
   "source": [
    "## Structures arborescentes  \n",
    "\n",
    "### Mise en situation  \n",
    "\n",
    "Un organisateur de tournoi de rugby recherche la meilleure solution pour afficher les potentiels quarts de final, demi-finales et finale :\n",
    "\n",
    "Au départ nous avons 4 poules de 4 équipes. Les 4 équipes d'une poule s'affrontent dans un mini championnat (3 matchs par équipe). À l'issue de cette phase de poule, les 2 premières équipes de chaque poule sont qualifiées pour les quarts de finale.\n",
    "\n",
    "Dans ce qui suit, on désigne les 2 qualifiés par poule par :\n",
    "- Poule 1 => 1er Eq1 ; 2e Eq8\n",
    "- Poule 2 => 1er Eq2 ; 2e Eq7\n",
    "- Poule 3 => 1er Eq3 ; 2e Eq6\n",
    "- Poule 4 => 1er Eq4 ; 2e Eq5\n",
    "\n",
    "En quart de finale on va avoir :\n",
    "- quart de finale 1 => Eq1 contre Eq5\n",
    "- quart de finale 2 => Eq2 contre Eq6\n",
    "- quart de finale 3 => Eq3 contre Eq7\n",
    "- quart de finale 4 => Eq4 contre Eq8\n",
    "\n",
    "Pour les demi-finales on aura :\n",
    "- demi-finale 1 => vainqueur quart de finale 1 contre vainqueur quart de finale 3\n",
    "- demi-finale 2 => vainqueur quart de finale 2 contre vainqueur quart de finale 4\n",
    "\n",
    "L'organisateur du tournoi affiche les informations ci-dessus le jour du tournoi. Malheureusement, la plupart des spectateurs se perdent quand ils cherchent à déterminer les potentielles demi-finales (et ne parlons pas de la finale !)\n",
    "\n",
    "Pourtant, un simple graphique aurait grandement simplifié les choses :\n",
    "\n",
    "![poules](./img/poules.png)\n",
    "\n",
    "Les spectateurs peuvent alors recopier sur un bout de papier ce schéma et ensuite se livrer au jeu des pronostics.\n",
    "\n",
    "Nous avons ci-dessus ce que l'on appelle une structure en arbre. On peut aussi retrouver cette même structure dans un arbre généalogique :\n",
    "\n",
    "![genealogie](./img/genealogie.png)\n",
    "\n",
    "Dernier exemple, les systèmes de fichiers dans les systèmes de type UNIX ont aussi une structure en arbre (notion vue en première)\n",
    "\n",
    "![fichiers](./img/fichiers.png)\n",
    "\n",
    "Les arbres sont des types abstraits très utilisés en informatique. On les utilise notamment quand on a besoin d'une structure hiérarchique des données : dans l'exemple ci-dessus le fichier ```grub.cfg``` ne se trouve pas au même niveau que le fichier ```rapport.odt``` (le fichier ```grub.cfg``` se trouve \"plus proche\" de la racine / que le fichier ```rapport.odt```)."
   ]
  },
  {
   "cell_type": "markdown",
   "metadata": {},
   "source": [
    "### Définitions sur les arbres\n",
    "Un arbre est donc une structure représentée sous la forme d'une hiérarchie dont chaque élément est appelé __nœud__, le nœud initial étant appelé __racine__ de l'arbre.\n",
    "\n",
    "On distingue deux catégories d'éléments :\n",
    "\n",
    "- les __feuilles__ (ou nœuds externes), éléments ne possédant pas de fils dans l'arbre\n",
    "- les __nœuds internes__, éléments possédant des fils (sous-branches)\n"
   ]
  },
  {
   "cell_type": "markdown",
   "metadata": {},
   "source": [
    "### Cas particulier des arbres binaires\n",
    "l'arbre du tournoi de rugby et l'arbre \"père, mère...\" sont des arbres binaires, en revanche, l'arbre représentant la structure du système de fichier n'est pas un arbre binaire. Dans un arbre binaire, on a au maximum 2 branches qui partent d'un élément (pour le système de fichiers, on a 7 branches qui partent de la racine : ce n'est donc pas un arbre binaire). Dans la suite nous allons uniquement travailler sur les arbres binaires."
   ]
  },
  {
   "cell_type": "markdown",
   "metadata": {},
   "source": [
    "## Définitions et propriétés des arbres binaires  \n",
    "\n",
    "### Définitions  \n",
    "\n",
    "Soit l'arbre binaire suivant :\n",
    "\n",
    "![exemple](./img/exemple.png)\n",
    "\n",
    "- Chaque élément de l'arbre est appelé **noeud** (par exemple : A, B, C, D,...,P et Q sont des noeuds)\n",
    "- Le noeud initial (A) est la **racine** de l'arbre\n",
    "- On dira que les noeuds E et D sont les fils du noeud B. On dira que le noeud B est le père des noeuds E et D\n",
    "- Dans un arbre binaire, un noeud possède **au plus** 2 fils\n",
    "- Un noeud n'ayant aucun fils est appelé **feuille** (exemples : D, H, N, O, J, K, L, P et Q sont des feuilles)\n",
    "- À partir d'un noeud (qui n'est pas une feuille), on peut définir un **sous-arbre gauche** et un **sous-arbre droite** (exemple : à partir de C on va trouver un sous-arbre gauche composé des noeuds F, J et K et un sous-arbre droit composé des noeuds G, L, M, P et Q)\n",
    "- On appelle **arête** le segment qui relie 2 noeuds\n",
    "\n",
    "### Propriétés  \n",
    "\n",
    "Toujours sur l'arbre binaire vu plus haut :\n",
    "\n",
    "- On appelle __taille N__ d'un arbre le __nombre de noeuds__ présents dans cet arbre\n",
    "- On appelle __profondeur__ d'un noeud le nombre d'arêtes sur la branche qui le relie à la racine. La profondeur de la racine est nulle. \n",
    "    Exemples : profondeur de B = 1 ; profondeur de I = 3 ; profondeur de P = 4\n",
    "    \n",
    "- On appelle __hauteur h__ d'un arbre le plus grand nombre de noeuds rencontrés en descendant de la racine jusqu'à une feuille.  \n",
    "    \n",
    "Ainsi si __N__ désigne la taille de l'arbre binaire, c'est à dire son nombre de noeuds, et si h désigne la hauteur, alors ces deux sont constraintes par les inégalités suivantes : \n",
    "\n",
    "$[h \\leqslant N \\leqslant 2^{h} - 1]$\n",
    "\n",
    "Il est aussi important de bien noter que l'on peut aussi voir les arbres comme des __structures récursives__ : les fils d'un noeud sont des arbres (**sous-arbre gauche** et un **sous-arbre droite** dans le cas d'un arbre binaire), ces arbres sont eux mêmes constitués d'arbres.\n",
    "\n",
    "### Parcours \n",
    "Parcourir un arbre consiste à visiter chacun des noeuds de l'arbre, à effectuer un traitement sur chacune des étiquettes des noeuds de l'arbre.  \n",
    "On distingue différents parcours selon l'ordre dans lequel les noeuds seront visités : des parcours en **profondeur** et en **largeur**.  \n",
    "\n",
    "1. __Trois parcours en profondeur__: \n",
    "\n",
    "Le principe des parcours en profondeur est de visiter récursivement les noeuds de l'arbre.\n",
    "\n",
    "On distingue trois parcours, en fonction de comment l'on traite l'étiquette d'un noeud :\n",
    "\n",
    "* __préfixe__: chaque noeud est visité avant que ses fils ne le soient ( racine - fils gauche - fils droit)\n",
    "* __infixe__ : après la visite de son fils gauche (et avant la visite de son fils droit)(fils gauche -racine-fils droit)\n",
    "* __postfixe__ : après la visite de ses fils gauche et droit (fils gauche -fils droit- racine)\n",
    "Appliquer ces parcours sur l'arbre suivant : \n",
    "![python](./img/python.jpg)"
   ]
  },
  {
   "cell_type": "markdown",
   "metadata": {},
   "source": [
    "  \n",
    "|parcours||\n",
    "|:---|:---:|\n",
    "| préfixe| TYPOHN |\n",
    "| infixe| PYTHON |\n",
    "| postfixe| PYHNOT |\n"
   ]
  },
  {
   "cell_type": "markdown",
   "metadata": {},
   "source": [
    "2. __Parcours en largeur__:\n",
    "\n",
    "Un parcours en largeur visite les noeuds d'un arbre niveau par niveau : le noeud racine de profondeur nulle, les noeuds de profondeur 1, puis les noeuds de profondeur 2, etc...\n",
    "\n",
    "Pour une profondeur donnée, on visite les noeuds de gauche à droite."
   ]
  },
  {
   "cell_type": "markdown",
   "metadata": {},
   "source": [
    "## **Des formes particulières**\n",
    "\n",
    "Un arbre binaire **strict** est un arbre dont tous les nœuds internes possèdent exactement deux fils. (Autrement dit, un arbre binaire strict est un arbre dont chaque nœud possède zéro ou 2 fils. L'arbre vide n'est pas strict.)\n",
    "\n",
    "Un arbre binaire **complet** est un arbre dans lequel toutes les feuilles sont à la même profondeur. (Il s'agit d'un arbre dont tous les niveaux sont remplis.)\n",
    "\n",
    "Un arbre binaire **parfait** est un arbre dans lequel tous les niveaux sont remplis à l'exception éventuelle du dernier, et dans ce cas les feuilles du dernier niveau sont alignées à gauche.\n",
    "\n",
    "Un arbre binaire **équilibré** est un arbre dont les deux fils sont des arbres équilibrés dont les hauteurs diffèrent d'au plus une unité.  Ainsi, l'accès à n'importe lequel des nœuds est en moyenne minimisé."
   ]
  },
  {
   "cell_type": "markdown",
   "metadata": {},
   "source": [
    "## Représentation  en Python  d'un arbre binaire\n",
    "\n",
    "On peut représenter l'arbre binaire en Python à l'aide d'une classe `Noeud` contenant trois attributs :  \n",
    "* attribut _gauche_ pour le sous arbre gauche\n",
    "* attribut _valeur_ pour la valeur contenue dans le noeud\n",
    "* attribut _droit_ pour le sous arbre droit.  \n",
    "\n",
    "L'arbre vide est représenté par la valeur _None_.  \n",
    "\n",
    "Ecrire la classe d'un noeud d'arbre binaire :"
   ]
  },
  {
   "cell_type": "code",
   "execution_count": 8,
   "metadata": {},
   "outputs": [],
   "source": [
    "class Noeud :\n",
    "    ''' un noeud d'un arbre binaire'''\n",
    "    def __init__(self, g, v, d) :\n",
    "        self.gauche = g\n",
    "        self.valeur = v\n",
    "        self.droite = d"
   ]
  },
  {
   "cell_type": "markdown",
   "metadata": {},
   "source": [
    "Pour construire un arbre, il suffit d'appliquer le constructeur de la classe __Noeud__ autant de fois qu'il y a de noeud dans l'arbre. \n",
    "Ainsi l'arbre : \n",
    "![arbre](./img/AB_ex.jpg)  \n",
    "\n",
    "Construire cet arbre en le stockant dans la variable a :"
   ]
  },
  {
   "cell_type": "code",
   "execution_count": 9,
   "metadata": {},
   "outputs": [],
   "source": [
    "a = Noeud(Noeud(None, 'B', Noeud(None, 'C', None)),\n",
    "          'A',\n",
    "          Noeud(None, 'D', None))"
   ]
  },
  {
   "cell_type": "markdown",
   "metadata": {},
   "source": [
    "On peut voir la construction dans Python Tutor de notre arbre : \n",
    "![pythonTutor](./img/PT_a.jpg)"
   ]
  },
  {
   "cell_type": "markdown",
   "metadata": {},
   "source": [
    "## Algorithmique des arbres binaires\n",
    "\n",
    "### La taille N\n",
    "Ecrire la fonction sous forme récursive permettant de calculer le nombre de noeuds. On considérera le cas de base où l'arbre a est vide ; dans le cas contraire, l'arbre contient au moins un noeud auquel on ajoute la taille des sous arbres : "
   ]
  },
  {
   "cell_type": "code",
   "execution_count": 14,
   "metadata": {},
   "outputs": [],
   "source": [
    "def taille(a) : \n",
    "    '''calcule le nombre de noeuds'''\n",
    "    if a is None:\n",
    "        return 0\n",
    "    else:\n",
    "        return 1 + taille(a.gauche) + taille(a.droite)"
   ]
  },
  {
   "cell_type": "code",
   "execution_count": 15,
   "metadata": {},
   "outputs": [
    {
     "name": "stdout",
     "output_type": "stream",
     "text": [
      "le nombre de noeud dans l'arbre a est : 4\n"
     ]
    }
   ],
   "source": [
    "print(\"le nombre de noeud dans l'arbre a est :\" ,taille(a))"
   ]
  },
  {
   "cell_type": "markdown",
   "metadata": {},
   "source": [
    "### La hauteur h  \n",
    "Ecrire dans le même esprit la fonction pour la hauteur sachant qu'elle représente la profondeur maximale de l'arbre."
   ]
  },
  {
   "cell_type": "code",
   "execution_count": 16,
   "metadata": {
    "scrolled": true
   },
   "outputs": [
    {
     "name": "stdout",
     "output_type": "stream",
     "text": [
      "Help on built-in function max in module builtins:\n",
      "\n",
      "max(...)\n",
      "    max(iterable, *[, default=obj, key=func]) -> value\n",
      "    max(arg1, arg2, *args, *[, key=func]) -> value\n",
      "    \n",
      "    With a single iterable argument, return its biggest item. The\n",
      "    default keyword-only argument specifies an object to return if\n",
      "    the provided iterable is empty.\n",
      "    With two or more arguments, return the largest argument.\n",
      "\n"
     ]
    }
   ],
   "source": [
    "help(max)"
   ]
  },
  {
   "cell_type": "code",
   "execution_count": 17,
   "metadata": {},
   "outputs": [],
   "source": [
    "def hauteur(a):\n",
    "    '''calcule la hauteur de l'arbre'''\n",
    "    if a is None:\n",
    "        return 0\n",
    "    else:\n",
    "        return 1 + max(hauteur(a.gauche), hauteur(a.droite))\n",
    "   "
   ]
  },
  {
   "cell_type": "code",
   "execution_count": 18,
   "metadata": {},
   "outputs": [
    {
     "name": "stdout",
     "output_type": "stream",
     "text": [
      "la hauteur de l'arbre a est : 3\n"
     ]
    }
   ],
   "source": [
    "print(\"la hauteur de l'arbre a est :\" ,hauteur(a))"
   ]
  },
  {
   "cell_type": "markdown",
   "metadata": {},
   "source": [
    "### Parcours d'un arbre"
   ]
  },
  {
   "cell_type": "markdown",
   "metadata": {},
   "source": [
    "Ecrire la fonction du __parcours infixe__ : \n",
    "\n",
    "* celle-ci devra parcourir l'arbre gauche, \n",
    "* afficher la racine, \n",
    "* parcourir l'arbre droit."
   ]
  },
  {
   "cell_type": "code",
   "execution_count": 21,
   "metadata": {},
   "outputs": [],
   "source": [
    "def parcours_infixe(a):\n",
    "    '''réalise le parcours infixe d'un arbre\n",
    "    '''\n",
    "    if a is None : \n",
    "        return\n",
    "    parcours_infixe(a.gauche)\n",
    "    print(a.valeur)\n",
    "    parcours_infixe(a.droite)"
   ]
  },
  {
   "cell_type": "code",
   "execution_count": 22,
   "metadata": {},
   "outputs": [
    {
     "name": "stdout",
     "output_type": "stream",
     "text": [
      "B\n",
      "C\n",
      "A\n",
      "D\n"
     ]
    }
   ],
   "source": [
    "parcours_infixe(a)"
   ]
  },
  {
   "cell_type": "code",
   "execution_count": 23,
   "metadata": {},
   "outputs": [],
   "source": [
    "a_python= Noeud(Noeud(Noeud(None,\"P\",None),\"Y\" ,None),\"T\" ,Noeud(Noeud(None,\"H\",None), \"O\",Noeud(None,\"N\",None)))"
   ]
  },
  {
   "cell_type": "code",
   "execution_count": 24,
   "metadata": {
    "scrolled": true
   },
   "outputs": [
    {
     "name": "stdout",
     "output_type": "stream",
     "text": [
      "P\n",
      "Y\n",
      "T\n",
      "H\n",
      "O\n",
      "N\n"
     ]
    }
   ],
   "source": [
    "parcours_infixe(a_python)"
   ]
  },
  {
   "cell_type": "markdown",
   "metadata": {},
   "source": [
    "[Python Tutor](https://urlz.fr/gkmi)"
   ]
  },
  {
   "cell_type": "markdown",
   "metadata": {},
   "source": [
    "Par analogie, écrire les fonctions de parcours prefixe et postfixe."
   ]
  },
  {
   "cell_type": "code",
   "execution_count": 25,
   "metadata": {},
   "outputs": [],
   "source": [
    "def parcours_prefixe(a):\n",
    "    '''réalise le parcours prefixe d'un arbre\n",
    "    '''\n",
    "    if a is None:\n",
    "        return\n",
    "    else:\n",
    "        print(a.valeur)\n",
    "        parcours_prefixe(a.gauche)\n",
    "        parcours_prefixe(a.droite)"
   ]
  },
  {
   "cell_type": "code",
   "execution_count": 26,
   "metadata": {},
   "outputs": [
    {
     "name": "stdout",
     "output_type": "stream",
     "text": [
      "T\n",
      "Y\n",
      "P\n",
      "O\n",
      "H\n",
      "N\n"
     ]
    }
   ],
   "source": [
    "parcours_prefixe(a_python)"
   ]
  },
  {
   "cell_type": "code",
   "execution_count": 30,
   "metadata": {},
   "outputs": [],
   "source": [
    "def parcours_postfixe(a):\n",
    "    '''réalise le parcours postfixe d'un arbre\n",
    "    '''\n",
    "    if a is None:\n",
    "        return\n",
    "    parcours_prefixe(a.gauche)\n",
    "    parcours_prefixe(a.droite)\n",
    "    print(a.valeur)"
   ]
  },
  {
   "cell_type": "code",
   "execution_count": 31,
   "metadata": {
    "scrolled": true
   },
   "outputs": [
    {
     "name": "stdout",
     "output_type": "stream",
     "text": [
      "Y\n",
      "P\n",
      "O\n",
      "H\n",
      "N\n",
      "T\n"
     ]
    }
   ],
   "source": [
    "parcours_postfixe(a_python)"
   ]
  },
  {
   "cell_type": "markdown",
   "metadata": {},
   "source": [
    "sources :   \n",
    "\n",
    "* cours NSI Stéphane Ramstein Timothée Decoster lycée Queneau Villeneuve d'Ascq\n",
    "* livre Terminale NSI Ellipse Bablonski"
   ]
  }
 ],
 "metadata": {
  "kernelspec": {
   "display_name": "Python 3 (ipykernel)",
   "language": "python",
   "name": "python3"
  },
  "language_info": {
   "codemirror_mode": {
    "name": "ipython",
    "version": 3
   },
   "file_extension": ".py",
   "mimetype": "text/x-python",
   "name": "python",
   "nbconvert_exporter": "python",
   "pygments_lexer": "ipython3",
   "version": "3.7.12"
  },
  "vscode": {
   "interpreter": {
    "hash": "f032b6ef5254d8e33f3862aab7d1d6f1655de21d548521ad84d3fe6674a887c9"
   }
  }
 },
 "nbformat": 4,
 "nbformat_minor": 4
}
